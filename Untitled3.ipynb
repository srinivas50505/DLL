{
 "cells": [
  {
   "cell_type": "code",
   "execution_count": 1,
   "id": "4f33310b-459c-4ac3-8315-5f10be525813",
   "metadata": {},
   "outputs": [
    {
     "name": "stdout",
     "output_type": "stream",
     "text": [
      "traing_img (60000, 28, 28)\n",
      "test_img (10000, 28, 28)\n"
     ]
    },
    {
     "name": "stderr",
     "output_type": "stream",
     "text": [
      "C:\\Users\\SRINIVAS\\anaconda3\\Lib\\site-packages\\keras\\src\\layers\\reshaping\\flatten.py:37: UserWarning: Do not pass an `input_shape`/`input_dim` argument to a layer. When using Sequential models, prefer using an `Input(shape)` object as the first layer in the model instead.\n",
      "  super().__init__(**kwargs)\n"
     ]
    },
    {
     "name": "stdout",
     "output_type": "stream",
     "text": [
      "Epoch 1/2\n",
      "\u001b[1m1875/1875\u001b[0m \u001b[32m━━━━━━━━━━━━━━━━━━━━\u001b[0m\u001b[37m\u001b[0m \u001b[1m16s\u001b[0m 8ms/step - accuracy: 0.8844 - loss: 0.4258\n",
      "Epoch 2/2\n",
      "\u001b[1m1875/1875\u001b[0m \u001b[32m━━━━━━━━━━━━━━━━━━━━\u001b[0m\u001b[37m\u001b[0m \u001b[1m15s\u001b[0m 8ms/step - accuracy: 0.9730 - loss: 0.0870\n",
      "313/313 - 1s - 4ms/step - accuracy: 0.9682 - loss: 0.1021\n",
      "Test Loss 0.10205451399087906\n",
      "Test Accuracy 0.9682000279426575\n"
     ]
    }
   ],
   "source": [
    "import tensorflow as tf\n",
    "import matplotlib.pyplot as plt\n",
    "import numpy as np\n",
    "from keras.datasets import mnist\n",
    "objects=mnist\n",
    "(train_img,train_lab),(test_img,test_lab)=objects.load_data()\n",
    "print(\"traing_img\",train_img.shape)\n",
    "print(\"test_img\",test_img.shape)\n",
    "train_img=train_img/255\n",
    "test_img=test_img/255\n",
    "from keras.models import Sequential\n",
    "from keras.layers import Flatten,Dense\n",
    "model=Sequential()\n",
    "input_layer=Flatten(input_shape=(28,28))\n",
    "model.add(input_layer)\n",
    "hidden_layer1=Dense(512,activation=\"relu\")\n",
    "model.add(hidden_layer1)\n",
    "hidden_layer2=Dense(512,activation=\"relu\")\n",
    "model.add(hidden_layer2)\n",
    "output_layer=Dense(512,activation=\"softmax\")\n",
    "model.add(output_layer)\n",
    "model.compile(optimizer=\"adam\",loss=\"sparse_categorical_crossentropy\"\n",
    "             ,metrics=[\"accuracy\"])\n",
    "model.fit(train_img,train_lab,epochs=2)\n",
    "loss_and_acc=model.evaluate(test_img,test_lab,verbose=2)\n",
    "print(\"Test Loss\",loss_and_acc[0])\n",
    "print(\"Test Accuracy\",loss_and_acc[1])"
   ]
  },
  {
   "cell_type": "code",
   "execution_count": 2,
   "id": "1061d89b-186c-41c6-be16-41db2a159c49",
   "metadata": {},
   "outputs": [
    {
     "name": "stdout",
     "output_type": "stream",
     "text": [
      "Epoch 1/10\n",
      "\u001b[1m196/196\u001b[0m \u001b[32m━━━━━━━━━━━━━━━━━━━━\u001b[0m\u001b[37m\u001b[0m \u001b[1m4s\u001b[0m 12ms/step - accuracy: 0.6163 - loss: 0.6156 - val_accuracy: 0.8088 - val_loss: 0.4092\n",
      "Epoch 2/10\n",
      "\u001b[1m196/196\u001b[0m \u001b[32m━━━━━━━━━━━━━━━━━━━━\u001b[0m\u001b[37m\u001b[0m \u001b[1m2s\u001b[0m 11ms/step - accuracy: 0.8514 - loss: 0.3366 - val_accuracy: 0.8441 - val_loss: 0.3498\n",
      "Epoch 3/10\n",
      "\u001b[1m196/196\u001b[0m \u001b[32m━━━━━━━━━━━━━━━━━━━━\u001b[0m\u001b[37m\u001b[0m \u001b[1m2s\u001b[0m 12ms/step - accuracy: 0.9140 - loss: 0.2260 - val_accuracy: 0.8227 - val_loss: 0.4291\n",
      "Epoch 4/10\n",
      "\u001b[1m196/196\u001b[0m \u001b[32m━━━━━━━━━━━━━━━━━━━━\u001b[0m\u001b[37m\u001b[0m \u001b[1m2s\u001b[0m 12ms/step - accuracy: 0.9609 - loss: 0.1289 - val_accuracy: 0.8203 - val_loss: 0.4689\n",
      "Epoch 5/10\n",
      "\u001b[1m196/196\u001b[0m \u001b[32m━━━━━━━━━━━━━━━━━━━━\u001b[0m\u001b[37m\u001b[0m \u001b[1m2s\u001b[0m 11ms/step - accuracy: 0.9849 - loss: 0.0631 - val_accuracy: 0.8180 - val_loss: 0.5663\n",
      "Epoch 6/10\n",
      "\u001b[1m196/196\u001b[0m \u001b[32m━━━━━━━━━━━━━━━━━━━━\u001b[0m\u001b[37m\u001b[0m \u001b[1m2s\u001b[0m 11ms/step - accuracy: 0.9938 - loss: 0.0307 - val_accuracy: 0.8162 - val_loss: 0.6628\n",
      "Epoch 7/10\n",
      "\u001b[1m196/196\u001b[0m \u001b[32m━━━━━━━━━━━━━━━━━━━━\u001b[0m\u001b[37m\u001b[0m \u001b[1m2s\u001b[0m 11ms/step - accuracy: 0.9978 - loss: 0.0151 - val_accuracy: 0.8165 - val_loss: 0.7455\n",
      "Epoch 8/10\n",
      "\u001b[1m196/196\u001b[0m \u001b[32m━━━━━━━━━━━━━━━━━━━━\u001b[0m\u001b[37m\u001b[0m \u001b[1m2s\u001b[0m 11ms/step - accuracy: 0.9996 - loss: 0.0063 - val_accuracy: 0.8176 - val_loss: 0.7965\n",
      "Epoch 9/10\n",
      "\u001b[1m196/196\u001b[0m \u001b[32m━━━━━━━━━━━━━━━━━━━━\u001b[0m\u001b[37m\u001b[0m \u001b[1m2s\u001b[0m 12ms/step - accuracy: 0.9998 - loss: 0.0032 - val_accuracy: 0.8160 - val_loss: 0.8482\n",
      "Epoch 10/10\n",
      "\u001b[1m196/196\u001b[0m \u001b[32m━━━━━━━━━━━━━━━━━━━━\u001b[0m\u001b[37m\u001b[0m \u001b[1m2s\u001b[0m 12ms/step - accuracy: 0.9999 - loss: 0.0019 - val_accuracy: 0.8174 - val_loss: 0.8814\n",
      "\u001b[1m782/782\u001b[0m \u001b[32m━━━━━━━━━━━━━━━━━━━━\u001b[0m\u001b[37m\u001b[0m \u001b[1m2s\u001b[0m 2ms/step - accuracy: 0.8168 - loss: 0.8904\n",
      "Test Accuracy :  81.73999786376953\n"
     ]
    }
   ],
   "source": [
    "import tensorflow as tf\n",
    "from tensorflow.keras.datasets import imdb\n",
    "from tensorflow.keras.models import Sequential\n",
    "from tensorflow.keras.layers import Dense,Embedding,Flatten\n",
    "num_words=1000\n",
    "max_length=200\n",
    "(x_train,y_train),(x_test,y_test)=imdb.load_data(num_words=1000)\n",
    "x_train=tf.keras.preprocessing.sequence.pad_sequences(x_train,maxlen=max_length)\n",
    "x_test=tf.keras.preprocessing.sequence.pad_sequences(x_test,maxlen=max_length)\n",
    "model =Sequential()\n",
    "model.add(Embedding(input_dim=num_words,output_dim=32))\n",
    "model.add(Flatten())\n",
    "model.add(Dense(64,activation=\"relu\"))\n",
    "model.add(Dense(1,activation=\"sigmoid\"))\n",
    "model.compile(optimizer=\"adam\",loss=\"binary_crossentropy\",metrics=[\"accuracy\"])\n",
    "model.fit(x_train,y_train,epochs=10,batch_size=128,validation_data=(x_test,y_test))\n",
    "loss,accuracy=model.evaluate(x_test,y_test)\n",
    "print(\"Test Accuracy : \",accuracy*100)"
   ]
  },
  {
   "cell_type": "code",
   "execution_count": 3,
   "id": "3951e585-a9ba-44e6-9151-1fc37d8d82b4",
   "metadata": {},
   "outputs": [
    {
     "name": "stdout",
     "output_type": "stream",
     "text": [
      "Epoch 1/10\n",
      "\u001b[1m15/15\u001b[0m \u001b[32m━━━━━━━━━━━━━━━━━━━━\u001b[0m\u001b[37m\u001b[0m \u001b[1m2s\u001b[0m 46ms/step - accuracy: 0.1572 - loss: 3.6425 - val_accuracy: 0.4569 - val_loss: 2.7900\n",
      "Epoch 2/10\n",
      "\u001b[1m15/15\u001b[0m \u001b[32m━━━━━━━━━━━━━━━━━━━━\u001b[0m\u001b[37m\u001b[0m \u001b[1m0s\u001b[0m 17ms/step - accuracy: 0.4111 - loss: 2.7120 - val_accuracy: 0.6032 - val_loss: 1.9012\n",
      "Epoch 3/10\n",
      "\u001b[1m15/15\u001b[0m \u001b[32m━━━━━━━━━━━━━━━━━━━━\u001b[0m\u001b[37m\u001b[0m \u001b[1m0s\u001b[0m 18ms/step - accuracy: 0.5175 - loss: 2.0824 - val_accuracy: 0.6522 - val_loss: 1.6064\n",
      "Epoch 4/10\n",
      "\u001b[1m15/15\u001b[0m \u001b[32m━━━━━━━━━━━━━━━━━━━━\u001b[0m\u001b[37m\u001b[0m \u001b[1m0s\u001b[0m 19ms/step - accuracy: 0.5773 - loss: 1.7552 - val_accuracy: 0.6839 - val_loss: 1.4399\n",
      "Epoch 5/10\n",
      "\u001b[1m15/15\u001b[0m \u001b[32m━━━━━━━━━━━━━━━━━━━━\u001b[0m\u001b[37m\u001b[0m \u001b[1m0s\u001b[0m 20ms/step - accuracy: 0.6285 - loss: 1.5548 - val_accuracy: 0.6962 - val_loss: 1.3361\n",
      "Epoch 6/10\n",
      "\u001b[1m15/15\u001b[0m \u001b[32m━━━━━━━━━━━━━━━━━━━━\u001b[0m\u001b[37m\u001b[0m \u001b[1m0s\u001b[0m 22ms/step - accuracy: 0.6582 - loss: 1.4149 - val_accuracy: 0.7040 - val_loss: 1.2744\n",
      "Epoch 7/10\n",
      "\u001b[1m15/15\u001b[0m \u001b[32m━━━━━━━━━━━━━━━━━━━━\u001b[0m\u001b[37m\u001b[0m \u001b[1m0s\u001b[0m 17ms/step - accuracy: 0.6747 - loss: 1.3529 - val_accuracy: 0.7145 - val_loss: 1.2289\n",
      "Epoch 8/10\n",
      "\u001b[1m15/15\u001b[0m \u001b[32m━━━━━━━━━━━━━━━━━━━━\u001b[0m\u001b[37m\u001b[0m \u001b[1m0s\u001b[0m 21ms/step - accuracy: 0.6941 - loss: 1.2527 - val_accuracy: 0.7179 - val_loss: 1.1923\n",
      "Epoch 9/10\n",
      "\u001b[1m15/15\u001b[0m \u001b[32m━━━━━━━━━━━━━━━━━━━━\u001b[0m\u001b[37m\u001b[0m \u001b[1m0s\u001b[0m 19ms/step - accuracy: 0.7049 - loss: 1.1972 - val_accuracy: 0.7301 - val_loss: 1.1638\n",
      "Epoch 10/10\n",
      "\u001b[1m15/15\u001b[0m \u001b[32m━━━━━━━━━━━━━━━━━━━━\u001b[0m\u001b[37m\u001b[0m \u001b[1m0s\u001b[0m 21ms/step - accuracy: 0.7190 - loss: 1.1314 - val_accuracy: 0.7340 - val_loss: 1.1382\n",
      "\u001b[1m71/71\u001b[0m \u001b[32m━━━━━━━━━━━━━━━━━━━━\u001b[0m\u001b[37m\u001b[0m \u001b[1m0s\u001b[0m 3ms/step - accuracy: 0.7393 - loss: 1.1621\n",
      "test Accuracy:  72.61798977851868\n"
     ]
    }
   ],
   "source": [
    "import numpy as np\n",
    "import tensorflow as tf\n",
    "from tensorflow.keras.datasets import reuters\n",
    "from tensorflow.keras.models import Sequential\n",
    "from tensorflow.keras.layers import Dense,Dropout,Input\n",
    "from tensorflow.keras.utils import to_categorical\n",
    "(x_train,y_train),(x_test,y_test)=reuters.load_data(num_words=10000)\n",
    "def Vectorize_Sequences(sequences,dimension=10000):\n",
    "    results=np.zeros((len(sequences),dimension))\n",
    "    for i ,sequence in enumerate(sequences):\n",
    "        results[i,sequence]=1\n",
    "    return results\n",
    "x_train=Vectorize_Sequences(x_train)\n",
    "x_test=Vectorize_Sequences(x_test)\n",
    "num_classes=np.max(y_train)+1\n",
    "y_train=to_categorical(y_train,num_classes)\n",
    "y_test=to_categorical(y_test,num_classes)\n",
    "model=Sequential([\n",
    "                 Input(shape=(10000,)),\n",
    "                 Dense(64,activation=\"relu\"),\n",
    "                 Dropout(0.5),\n",
    "                 Dense(64,activation=\"relu\"),\n",
    "                 Dropout(0.5),\n",
    "                 Dense(num_classes,activation=\"softmax\")])\n",
    "model.compile(optimizer=\"adam\",loss=\"categorical_crossentropy\",metrics=[\"accuracy\"])\n",
    "history=model.fit(x_train,y_train,epochs=10,batch_size=512,validation_split=0.2)\n",
    "loss,accuracy=model.evaluate(x_test,y_test)\n",
    "print(\"test Accuracy: \",accuracy*100)"
   ]
  },
  {
   "cell_type": "code",
   "execution_count": 4,
   "id": "3358f2e6-2c0d-43e6-bf90-fdf4a6383958",
   "metadata": {},
   "outputs": [
    {
     "name": "stdout",
     "output_type": "stream",
     "text": [
      "Epoch 1/10\n",
      "\u001b[1m41/41\u001b[0m \u001b[32m━━━━━━━━━━━━━━━━━━━━\u001b[0m\u001b[37m\u001b[0m \u001b[1m2s\u001b[0m 8ms/step - loss: 511.4612 - val_loss: 477.1661\n",
      "Epoch 2/10\n",
      "\u001b[1m41/41\u001b[0m \u001b[32m━━━━━━━━━━━━━━━━━━━━\u001b[0m\u001b[37m\u001b[0m \u001b[1m0s\u001b[0m 4ms/step - loss: 350.9897 - val_loss: 228.3052\n",
      "Epoch 3/10\n",
      "\u001b[1m41/41\u001b[0m \u001b[32m━━━━━━━━━━━━━━━━━━━━\u001b[0m\u001b[37m\u001b[0m \u001b[1m0s\u001b[0m 3ms/step - loss: 148.7928 - val_loss: 76.2493\n",
      "Epoch 4/10\n",
      "\u001b[1m41/41\u001b[0m \u001b[32m━━━━━━━━━━━━━━━━━━━━\u001b[0m\u001b[37m\u001b[0m \u001b[1m0s\u001b[0m 3ms/step - loss: 68.6261 - val_loss: 52.4875\n",
      "Epoch 5/10\n",
      "\u001b[1m41/41\u001b[0m \u001b[32m━━━━━━━━━━━━━━━━━━━━\u001b[0m\u001b[37m\u001b[0m \u001b[1m0s\u001b[0m 3ms/step - loss: 82.7119 - val_loss: 37.1465\n",
      "Epoch 6/10\n",
      "\u001b[1m41/41\u001b[0m \u001b[32m━━━━━━━━━━━━━━━━━━━━\u001b[0m\u001b[37m\u001b[0m \u001b[1m0s\u001b[0m 4ms/step - loss: 57.1813 - val_loss: 34.3265\n",
      "Epoch 7/10\n",
      "\u001b[1m41/41\u001b[0m \u001b[32m━━━━━━━━━━━━━━━━━━━━\u001b[0m\u001b[37m\u001b[0m \u001b[1m0s\u001b[0m 3ms/step - loss: 53.4046 - val_loss: 28.3816\n",
      "Epoch 8/10\n",
      "\u001b[1m41/41\u001b[0m \u001b[32m━━━━━━━━━━━━━━━━━━━━\u001b[0m\u001b[37m\u001b[0m \u001b[1m0s\u001b[0m 3ms/step - loss: 51.1691 - val_loss: 27.2215\n",
      "Epoch 9/10\n",
      "\u001b[1m41/41\u001b[0m \u001b[32m━━━━━━━━━━━━━━━━━━━━\u001b[0m\u001b[37m\u001b[0m \u001b[1m0s\u001b[0m 3ms/step - loss: 46.4853 - val_loss: 23.0076\n",
      "Epoch 10/10\n",
      "\u001b[1m41/41\u001b[0m \u001b[32m━━━━━━━━━━━━━━━━━━━━\u001b[0m\u001b[37m\u001b[0m \u001b[1m0s\u001b[0m 3ms/step - loss: 52.6426 - val_loss: 23.4170\n",
      "\u001b[1m4/4\u001b[0m \u001b[32m━━━━━━━━━━━━━━━━━━━━\u001b[0m\u001b[37m\u001b[0m \u001b[1m0s\u001b[0m 6ms/step - loss: 21.8415 \n",
      "Test Loss:  24.309907913208008\n"
     ]
    }
   ],
   "source": [
    "import numpy as np\n",
    "import tensorflow as tf\n",
    "from tensorflow.keras.datasets import boston_housing\n",
    "from tensorflow.keras.models import Sequential\n",
    "from tensorflow.keras.layers import Dense, Dropout, Input\n",
    "from sklearn.preprocessing import StandardScaler\n",
    "(x_train, y_train), (x_test, y_test) = boston_housing.load_data()\n",
    "scaler=StandardScaler()\n",
    "x_train=scaler.fit_transform(x_train)\n",
    "x_test=scaler.fit_transform(x_test)\n",
    "model=Sequential([\n",
    "    Input(shape=(x_train.shape[1],)),\n",
    "    Dense(64,activation=\"relu\"),\n",
    "    Dropout(0.5),\n",
    "    Dense(64,activation=\"relu\"),\n",
    "    Dropout(0.5),\n",
    "    Dense(1)\n",
    "])\n",
    "model.compile(optimizer=\"adam\",loss=\"mean_squared_error\")\n",
    "history=model.fit(x_train,y_train,epochs=10,batch_size=8,validation_split=0.2)\n",
    "loss=model.evaluate(x_test,y_test)\n",
    "print(\"Test Loss: \",loss)"
   ]
  },
  {
   "cell_type": "code",
   "execution_count": 5,
   "id": "6d9be014-eec3-417d-a23b-7a0c01acdb20",
   "metadata": {},
   "outputs": [
    {
     "name": "stderr",
     "output_type": "stream",
     "text": [
      "C:\\Users\\SRINIVAS\\anaconda3\\Lib\\site-packages\\keras\\src\\layers\\convolutional\\base_conv.py:107: UserWarning: Do not pass an `input_shape`/`input_dim` argument to a layer. When using Sequential models, prefer using an `Input(shape)` object as the first layer in the model instead.\n",
      "  super().__init__(activity_regularizer=activity_regularizer, **kwargs)\n"
     ]
    },
    {
     "name": "stdout",
     "output_type": "stream",
     "text": [
      "Epoch 1/5\n",
      "\u001b[1m1875/1875\u001b[0m \u001b[32m━━━━━━━━━━━━━━━━━━━━\u001b[0m\u001b[37m\u001b[0m \u001b[1m18s\u001b[0m 8ms/step - accuracy: 0.9128 - loss: 0.2838\n",
      "Epoch 2/5\n",
      "\u001b[1m1875/1875\u001b[0m \u001b[32m━━━━━━━━━━━━━━━━━━━━\u001b[0m\u001b[37m\u001b[0m \u001b[1m15s\u001b[0m 8ms/step - accuracy: 0.9855 - loss: 0.0454\n",
      "Epoch 3/5\n",
      "\u001b[1m1875/1875\u001b[0m \u001b[32m━━━━━━━━━━━━━━━━━━━━\u001b[0m\u001b[37m\u001b[0m \u001b[1m15s\u001b[0m 8ms/step - accuracy: 0.9918 - loss: 0.0253\n",
      "Epoch 4/5\n",
      "\u001b[1m1875/1875\u001b[0m \u001b[32m━━━━━━━━━━━━━━━━━━━━\u001b[0m\u001b[37m\u001b[0m \u001b[1m15s\u001b[0m 8ms/step - accuracy: 0.9944 - loss: 0.0184\n",
      "Epoch 5/5\n",
      "\u001b[1m1875/1875\u001b[0m \u001b[32m━━━━━━━━━━━━━━━━━━━━\u001b[0m\u001b[37m\u001b[0m \u001b[1m16s\u001b[0m 9ms/step - accuracy: 0.9956 - loss: 0.0131\n",
      "\u001b[1m313/313\u001b[0m \u001b[32m━━━━━━━━━━━━━━━━━━━━\u001b[0m\u001b[37m\u001b[0m \u001b[1m2s\u001b[0m 5ms/step - accuracy: 0.9845 - loss: 0.0472\n",
      "Test accuracy: 0.9868000149726868\n",
      "\u001b[1m313/313\u001b[0m \u001b[32m━━━━━━━━━━━━━━━━━━━━\u001b[0m\u001b[37m\u001b[0m \u001b[1m2s\u001b[0m 5ms/step\n",
      "Predicted classes: [7 2 1 ... 4 5 6]\n"
     ]
    },
    {
     "data": {
      "text/plain": [
       "<matplotlib.image.AxesImage at 0x22c026e42d0>"
      ]
     },
     "execution_count": 5,
     "metadata": {},
     "output_type": "execute_result"
    },
    {
     "data": {
      "image/png": "[encoded data removed]",
      "text/plain": [
       "<Figure size 480x480 with 1 Axes>"
      ]
     },
     "metadata": {},
     "output_type": "display_data"
    }
   ],
   "source": [
    "import tensorflow as tf \n",
    "from tensorflow.keras.datasets import mnist \n",
    "from tensorflow.keras.models import Sequential \n",
    "from tensorflow.keras.layers import Dense, Flatten, Conv2D, MaxPooling2D \n",
    "# Load the MNIST dataset and split it into train and test sets \n",
    "(x_train, y_train), (x_test, y_test) = mnist.load_data() \n",
    "# Reshape the input data to be 4-dimensional (batch_size, height, width, channels) \n",
    "x_train = x_train.reshape(x_train.shape[0], 28, 28, 1) \n",
    "x_test = x_test.reshape(x_test.shape[0], 28, 28, 1) \n",
    "# Normalize the pixel values to be between 0 and 1 \n",
    "x_train = x_train / 255.0 \n",
    "x_test = x_test / 255.0 \n",
    "# Define the CNN architecture \n",
    "model = Sequential([Conv2D(32, (3, 3), activation='relu', input_shape=(28, 28, 1)), \n",
    "MaxPooling2D((2, 2)),Conv2D(64, (3, 3), activation='relu'),MaxPooling2D((2, 2)),Flatten(), \n",
    "Dense(128, activation='relu'),Dense(10, activation='softmax') ]) \n",
    "# Compile the model \n",
    "model.compile(optimizer='adam',loss='sparse_categorical_crossentropy',metrics=['accuracy'])   \n",
    "# Train the model on the training data \n",
    "model.fit(x_train, y_train, epochs=5) \n",
    "# Evaluate the model on the test data \n",
    "test_loss, test_acc = model.evaluate(x_test, y_test) \n",
    "print('Test accuracy:', test_acc) \n",
    "# Predict new data \n",
    "import numpy as np \n",
    "from PIL import Image \n",
    "# Load a sample image and preprocess it \n",
    "import matplotlib.pyplot as plt \n",
    "predictions = model.predict(x_test) \n",
    "predicted_classes = np.argmax(predictions, axis=1) \n",
    "print('Predicted classes:', predicted_classes) \n",
    "plt.matshow(x_test[0])"
   ]
  },
  {
   "cell_type": "code",
   "execution_count": 10,
   "id": "8f4e0b57-40db-46b9-b936-f1b5d125d261",
   "metadata": {},
   "outputs": [
    {
     "name": "stdout",
     "output_type": "stream",
     "text": [
      "\u001b[1m1/1\u001b[0m \u001b[32m━━━━━━━━━━━━━━━━━━━━\u001b[0m\u001b[37m\u001b[0m \u001b[1m1s\u001b[0m 830ms/step\n",
      "Downloading data from https://storage.googleapis.com/download.tensorflow.org/data/imagenet_class_index.json\n",
      "\u001b[1m35363/35363\u001b[0m \u001b[32m━━━━━━━━━━━━━━━━━━━━\u001b[0m\u001b[37m\u001b[0m \u001b[1m0s\u001b[0m 3us/step\n",
      "1 : menu ( 0.97)\n",
      "2 : binder ( 0.02)\n",
      "3 : web_site ( 0.01)\n"
     ]
    }
   ],
   "source": [
    "import numpy as np\n",
    "from tensorflow.keras.applications import VGG16\n",
    "from tensorflow.keras.preprocessing import image\n",
    "from tensorflow.keras.applications.vgg16 import preprocess_input,decode_predictions\n",
    "\n",
    "model=VGG16(weights=\"imagenet\",include_top=True)\n",
    "img_path=r\"C:\\Users\\SRINIVAS\\Pictures\\Screenshots\\Screenshot 2024-08-30 101341.png\"\n",
    "img=image.load_img(img_path,target_size=(224,224))\n",
    "x=image.img_to_array(img)\n",
    "x=np.expand_dims(x,axis=0)\n",
    "x=preprocess_input(x)\n",
    "predictions=model.predict(x)\n",
    "decode_predictions=decode_predictions(predictions,top=3)[0]\n",
    "for i ,(imagenet_id,label,score) in enumerate (decode_predictions):\n",
    "    print(f\"{i+1} : {label} ({score : .2f})\")"
   ]
  },
  {
   "cell_type": "code",
   "execution_count": 11,
   "id": "0335a987-90e1-4b33-9f4b-a97ff1c9bf6b",
   "metadata": {},
   "outputs": [
    {
     "name": "stdout",
     "output_type": "stream",
     "text": [
      "Original text:  welcome to dl lab\n",
      "dl : [1, 0, 0, 0]\n",
      "lab : [0, 1, 0, 0]\n",
      "to : [0, 0, 1, 0]\n",
      "welcome : [0, 0, 0, 1]\n"
     ]
    }
   ],
   "source": [
    "text=\"welcome to dl lab\"\n",
    "words=text.split()\n",
    "vocabulary=sorted(set(words))\n",
    "onehotencoding=[]\n",
    "for word in vocabulary:\n",
    "    encoding =[0]*len(vocabulary)\n",
    "    index=list(vocabulary).index(word)\n",
    "    encoding[index]=1\n",
    "    onehotencoding.append((word,encoding))\n",
    "print(\"Original text: \",text)\n",
    "for word,encoding in onehotencoding:\n",
    "    print(f\"{word} : {encoding}\" )"
   ]
  },
  {
   "cell_type": "code",
   "execution_count": 12,
   "id": "3ff73549-2dd6-4cd3-9f66-99dcd0c619e0",
   "metadata": {},
   "outputs": [
    {
     "name": "stdout",
     "output_type": "stream",
     "text": [
      "Loading data\n",
      "Pad Sequences (Sample X time)\n",
      "Build Model.......\n",
      "Epoch 1/5\n"
     ]
    },
    {
     "name": "stderr",
     "output_type": "stream",
     "text": [
      "C:\\Users\\SRINIVAS\\anaconda3\\Lib\\site-packages\\keras\\src\\layers\\core\\embedding.py:90: UserWarning: Argument `input_length` is deprecated. Just remove it.\n",
      "  warnings.warn(\n"
     ]
    },
    {
     "name": "stdout",
     "output_type": "stream",
     "text": [
      "\u001b[1m782/782\u001b[0m \u001b[32m━━━━━━━━━━━━━━━━━━━━\u001b[0m\u001b[37m\u001b[0m \u001b[1m7s\u001b[0m 6ms/step - accuracy: 0.6755 - loss: 0.5846 - val_accuracy: 0.8529 - val_loss: 0.3336\n",
      "Epoch 2/5\n",
      "\u001b[1m782/782\u001b[0m \u001b[32m━━━━━━━━━━━━━━━━━━━━\u001b[0m\u001b[37m\u001b[0m \u001b[1m4s\u001b[0m 6ms/step - accuracy: 0.9060 - loss: 0.2411 - val_accuracy: 0.8523 - val_loss: 0.3336\n",
      "Epoch 3/5\n",
      "\u001b[1m782/782\u001b[0m \u001b[32m━━━━━━━━━━━━━━━━━━━━\u001b[0m\u001b[37m\u001b[0m \u001b[1m5s\u001b[0m 6ms/step - accuracy: 0.9704 - loss: 0.1212 - val_accuracy: 0.8504 - val_loss: 0.3562\n",
      "Epoch 4/5\n",
      "\u001b[1m782/782\u001b[0m \u001b[32m━━━━━━━━━━━━━━━━━━━━\u001b[0m\u001b[37m\u001b[0m \u001b[1m5s\u001b[0m 6ms/step - accuracy: 0.9948 - loss: 0.0455 - val_accuracy: 0.8460 - val_loss: 0.3917\n",
      "Epoch 5/5\n",
      "\u001b[1m782/782\u001b[0m \u001b[32m━━━━━━━━━━━━━━━━━━━━\u001b[0m\u001b[37m\u001b[0m \u001b[1m5s\u001b[0m 6ms/step - accuracy: 0.9995 - loss: 0.0166 - val_accuracy: 0.8458 - val_loss: 0.4270\n",
      "\u001b[1m782/782\u001b[0m \u001b[32m━━━━━━━━━━━━━━━━━━━━\u001b[0m\u001b[37m\u001b[0m \u001b[1m1s\u001b[0m 2ms/step - accuracy: 0.8446 - loss: 0.4329\n",
      "Test score:  0.42701154947280884\n",
      "Accuracy:  0.8458399772644043\n"
     ]
    }
   ],
   "source": [
    "import numpy as np\n",
    "from tensorflow.keras.datasets import imdb\n",
    "from tensorflow.keras.models import Sequential\n",
    "from tensorflow.keras.layers import Embedding,Flatten,Dense\n",
    "\n",
    "from tensorflow.keras.preprocessing.sequence import pad_sequences\n",
    "\n",
    "max_features=10000\n",
    "max_len=100\n",
    "batch_size=32\n",
    "epochs=5\n",
    "embedding_dim=50\n",
    "\n",
    "print(\"Loading data\")\n",
    "(x_train,y_train),(x_test,y_test)=imdb.load_data(num_words=max_features)\n",
    "print(\"Pad Sequences (Sample X time)\")\n",
    "x_train=pad_sequences(x_train,maxlen=max_len)\n",
    "x_test=pad_sequences(x_test,maxlen=max_len)\n",
    "print(\"Build Model.......\")\n",
    "model=Sequential()\n",
    "model.add(Embedding(max_features,embedding_dim,input_length=max_len))\n",
    "model.add(Flatten())\n",
    "model.add(Dense(1, activation='sigmoid')) \n",
    "model.compile(loss=\"binary_crossentropy\",optimizer=\"adam\",metrics=[\"accuracy\"])\n",
    "model.fit(x_train,y_train,batch_size=batch_size,epochs=epochs,validation_data=(x_test,y_test))\n",
    "score, acc = model.evaluate(x_test, y_test, batch_size=batch_size)\n",
    "print(\"Test score: \",score)\n",
    "print(\"Accuracy: \",acc)"
   ]
  },
  {
   "cell_type": "code",
   "execution_count": 13,
   "id": "6e92254a-1957-44d3-867d-8de223e6ab1c",
   "metadata": {},
   "outputs": [
    {
     "name": "stdout",
     "output_type": "stream",
     "text": [
      "Loading data\n",
      "Pad Sequences (Sample X time)\n",
      "Build Model.......\n",
      "Epoch 1/5\n",
      "\u001b[1m782/782\u001b[0m \u001b[32m━━━━━━━━━━━━━━━━━━━━\u001b[0m\u001b[37m\u001b[0m \u001b[1m86s\u001b[0m 105ms/step - accuracy: 0.7112 - loss: 0.5454 - val_accuracy: 0.8336 - val_loss: 0.3865\n",
      "Epoch 2/5\n",
      "\u001b[1m782/782\u001b[0m \u001b[32m━━━━━━━━━━━━━━━━━━━━\u001b[0m\u001b[37m\u001b[0m \u001b[1m93s\u001b[0m 119ms/step - accuracy: 0.8709 - loss: 0.3157 - val_accuracy: 0.8428 - val_loss: 0.3748\n",
      "Epoch 3/5\n",
      "\u001b[1m782/782\u001b[0m \u001b[32m━━━━━━━━━━━━━━━━━━━━\u001b[0m\u001b[37m\u001b[0m \u001b[1m95s\u001b[0m 121ms/step - accuracy: 0.9091 - loss: 0.2403 - val_accuracy: 0.8283 - val_loss: 0.4003\n",
      "Epoch 4/5\n",
      "\u001b[1m782/782\u001b[0m \u001b[32m━━━━━━━━━━━━━━━━━━━━\u001b[0m\u001b[37m\u001b[0m \u001b[1m97s\u001b[0m 124ms/step - accuracy: 0.9301 - loss: 0.1817 - val_accuracy: 0.8432 - val_loss: 0.4364\n",
      "Epoch 5/5\n",
      "\u001b[1m782/782\u001b[0m \u001b[32m━━━━━━━━━━━━━━━━━━━━\u001b[0m\u001b[37m\u001b[0m \u001b[1m83s\u001b[0m 106ms/step - accuracy: 0.9535 - loss: 0.1331 - val_accuracy: 0.8268 - val_loss: 0.5002\n",
      "\u001b[1m782/782\u001b[0m \u001b[32m━━━━━━━━━━━━━━━━━━━━\u001b[0m\u001b[37m\u001b[0m \u001b[1m15s\u001b[0m 20ms/step - accuracy: 0.8233 - loss: 0.5119\n",
      "Test score:  0.5002380609512329\n",
      "Accuracy:  0.8267599940299988\n"
     ]
    }
   ],
   "source": [
    "import tensorflow as tf\n",
    "from tensorflow.keras.datasets import imdb\n",
    "from tensorflow.keras.models import Sequential\n",
    "from tensorflow.keras.layers import Embedding,LSTM,Dense,SpatialDropout1D\n",
    "from tensorflow.keras.preprocessing import sequence\n",
    "\n",
    "max_features=20000\n",
    "max_len=100\n",
    "batch_size=32\n",
    "epochs=5\n",
    "\n",
    "print(\"Loading data\")\n",
    "(x_train,y_train),(x_test,y_test)=imdb.load_data(num_words=max_features)\n",
    "print(\"Pad Sequences (Sample X time)\")\n",
    "x_train=sequence.pad_sequences(x_train,maxlen=max_len)\n",
    "x_test=sequence.pad_sequences(x_test,maxlen=max_len)\n",
    "print(\"Build Model.......\")\n",
    "model=Sequential()\n",
    "model.add(Embedding(max_features,128))\n",
    "model.add(SpatialDropout1D(0.2))\n",
    "model.add(LSTM(100, dropout=0.2, recurrent_dropout=0.2)) \n",
    "model.add(Dense(1,activation=\"sigmoid\"))\n",
    "model.compile(loss=\"binary_crossentropy\",optimizer=\"adam\",metrics=[\"accuracy\"])\n",
    "model.fit(x_train,y_train,batch_size=batch_size,epochs=epochs,validation_data=(x_test,y_test))\n",
    "score, acc = model.evaluate(x_test, y_test, batch_size=batch_size)\n",
    "print(\"Test score: \",score)\n",
    "print(\"Accuracy: \",acc)"
   ]
  },
  {
   "cell_type": "code",
   "execution_count": null,
   "id": "2436fce3-89a1-4e1f-875f-f1c69b145ecc",
   "metadata": {},
   "outputs": [],
   "source": []
  }
 ],
 "metadata": {
  "kernelspec": {
   "display_name": "Python 3 (ipykernel)",
   "language": "python",
   "name": "python3"
  },
  "language_info": {
   "codemirror_mode": {
    "name": "ipython",
    "version": 3
   },
   "file_extension": ".py",
   "mimetype": "text/x-python",
   "name": "python",
   "nbconvert_exporter": "python",
   "pygments_lexer": "ipython3",
   "version": "3.11.7"
  }
 },
 "nbformat": 4,
 "nbformat_minor": 5
}
